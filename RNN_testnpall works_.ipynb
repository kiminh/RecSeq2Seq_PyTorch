{
 "cells": [
  {
   "cell_type": "code",
   "execution_count": 14,
   "metadata": {},
   "outputs": [],
   "source": [
    "from __future__ import unicode_literals, print_function, division\n",
    "from numpy import *\n",
    "import numpy as np\n",
    "\n",
    "import pandas as pd\n",
    "import datetime as dt\n",
    "import csv\n",
    "import torch\n",
    "import pickle\n",
    "from random import randint\n",
    "import math\n",
    "\n",
    "from io import open\n",
    "import unicodedata\n",
    "import string\n",
    "import re\n",
    "import random\n",
    "\n",
    "import torch\n",
    "import torch.nn as nn\n",
    "from torch import optim\n",
    "import torch.nn.functional as F\n",
    "import matplotlib\n",
    "\n",
    "\n",
    "device = torch.device(\"cuda\" if torch.cuda.is_available() else \"cpu\")"
   ]
  },
  {
   "cell_type": "code",
   "execution_count": 15,
   "metadata": {},
   "outputs": [],
   "source": [
    "PATH_TO_ORIGINAL_DATA = '/home/mamjad2/trivagodata/'\n",
    "PATH_TO_PROCESSED_DATA = '/home/mamjad2/preprocessed_data'\n",
    "train = pd.read_csv(PATH_TO_ORIGINAL_DATA + 'train.csv')\n",
    "test = pd.read_csv(PATH_TO_ORIGINAL_DATA + 'test.csv')\n",
    "item_meta = pd.read_csv(PATH_TO_ORIGINAL_DATA + 'item_metadata.csv')"
   ]
  },
  {
   "cell_type": "code",
   "execution_count": 16,
   "metadata": {},
   "outputs": [],
   "source": [
    "#Subset data with refrence of item ID\n",
    "dftrain=train[(train['action_type'] != 'change of sort order') & (train['action_type'] !='filter selection') & (train['action_type'] !='search for destination')& (train['action_type'] !='search for poi') & (train['reference']!='unknown')]"
   ]
  },
  {
   "cell_type": "code",
   "execution_count": 34,
   "metadata": {},
   "outputs": [],
   "source": [
    "def item_session(df):\n",
    "    datanp=[]\n",
    "    counter=0\n",
    "    for x in set(df['user_id']):\n",
    "        #if(counter>100):\n",
    "         #   break\n",
    "        dfuser=df[df['user_id'] == x]\n",
    "        for y in set(dfuser['session_id']):\n",
    "            dfuser_session= dfuser[dfuser['session_id'] == y]\n",
    "            dfuser_session=dfuser_session.sort_values('step')\n",
    "            temp=dfuser_session['reference'].to_numpy() #Note:This sequence of interacted items can have repetetive item even consequetively! \n",
    "            if len(temp)>1: #At least length 2 sequence\n",
    "                datanp.append([int(x) for x in temp])\n",
    "                counter+=1\n",
    "\n",
    "    listoflist= sorted(datanp, key=len, reverse=True)\n",
    "    return listoflist"
   ]
  },
  {
   "cell_type": "code",
   "execution_count": 35,
   "metadata": {},
   "outputs": [],
   "source": [
    "#testnpall=item_session(dftest1)\n",
    "#pickle.dump(testnpall, open('testnpall.pkle', 'wb')) ##alredy dumped"
   ]
  },
  {
   "cell_type": "code",
   "execution_count": 36,
   "metadata": {},
   "outputs": [],
   "source": [
    "#datanp = pickle.load(open('temp.pkle','rb'))\n",
    "testnpall=pickle.load(open('testnpall.pkle','rb'))"
   ]
  },
  {
   "cell_type": "code",
   "execution_count": 57,
   "metadata": {},
   "outputs": [],
   "source": [
    "n_items=0\n",
    "item2idx={}\n",
    "idx2item={}\n",
    "#flat_list_train = unique([item for sublist in datanp for item in sublist])\n",
    "flat_list_test = unique([item for sublist in testnpall for item in sublist])\n",
    "# flat_list= (unique((flat_list_train.tolist()+flat_list_test.tolist()))).tolist()\n",
    "for item in flat_list_test:\n",
    "    item2idx[item]=n_items\n",
    "    idx2item[n_items]=item\n",
    "    n_items+=1"
   ]
  },
  {
   "cell_type": "code",
   "execution_count": 58,
   "metadata": {},
   "outputs": [],
   "source": [
    "# n_items=0\n",
    "# item2idx={}\n",
    "# idx2item={}\n",
    "# flat_list_train = unique([item for sublist in datanp for item in sublist])\n",
    "# flat_list_test = unique([item for sublist in testnp for item in sublist])\n",
    "# flat_list= (unique((flat_list_train.tolist()+flat_list_test.tolist()))).tolist()\n",
    "# for item in flat_list_train:\n",
    "#     item2idx[item]=n_items\n",
    "#     idx2item[n_items]=item\n",
    "#     n_items+=1\n",
    "# n_items_train= n_items\n",
    "# for item in flat_list_test:\n",
    "#     if item not in flat_list_train:\n",
    "#         item2idx[item]=n_items\n",
    "#         idx2item[n_items]=item\n",
    "#         n_items+=1\n",
    "#     else:\n",
    "#         continue"
   ]
  },
  {
   "cell_type": "code",
   "execution_count": 59,
   "metadata": {},
   "outputs": [],
   "source": [
    "def seq2indx(seq):\n",
    "    indx4seq=[]\n",
    "    for item in seq:\n",
    "        indx4seq.append(item2idx[item])\n",
    "    return indx4seq"
   ]
  },
  {
   "cell_type": "code",
   "execution_count": 60,
   "metadata": {},
   "outputs": [],
   "source": [
    "def tensor4seq(seq):\n",
    "    indx4seq=[]\n",
    "    for item in seq:\n",
    "        indx4seq.append(item2idx[item])\n",
    "    input_tensor = torch.tensor(indx4seq[:-1], dtype=torch.long).view(-1, 1) #remove the last\n",
    "    output_tensor = torch.tensor(indx4seq[1:], dtype=torch.long).view(-1, 1) #remove the first\n",
    "    tensor=torch.tensor(indx4seq, dtype=torch.long).view(-1, 1) #not removing anything\n",
    "    return input_tensor, output_tensor, tensor"
   ]
  },
  {
   "cell_type": "code",
   "execution_count": 61,
   "metadata": {},
   "outputs": [],
   "source": [
    "class DecoderRNN(nn.Module):\n",
    "    def __init__(self, hidden_size, output_size):\n",
    "        super(DecoderRNN, self).__init__()\n",
    "        self.hidden_size = hidden_size\n",
    "        self.output_size = output_size\n",
    "\n",
    "        self.embedding = nn.Embedding(self.output_size, self.hidden_size)\n",
    "        self.gru = nn.GRU(self.hidden_size, self.hidden_size)\n",
    "        self.out = nn.Linear(self.hidden_size, self.output_size)\n",
    "        self.softmax = nn.LogSoftmax(dim=1)\n",
    "\n",
    "    def forward(self, input, hidden):\n",
    "        output = self.embedding(input).view(1, 1, -1)\n",
    "        output = F.relu(output)\n",
    "        output, hidden = self.gru(output, hidden)\n",
    "        output = self.softmax(self.out(output[0]))\n",
    "        return output, hidden\n",
    "\n",
    "    def initHidden(self):\n",
    "        return torch.zeros(1, 1, self.hidden_size)"
   ]
  },
  {
   "cell_type": "code",
   "execution_count": 62,
   "metadata": {},
   "outputs": [],
   "source": [
    "teacher_forcing_ratio = 1\n",
    "\n",
    "\n",
    "def train(input_tensor, target_tensor, decoder, decoder_optimizer, criterion):\n",
    "    decoder_hidden = decoder.initHidden()\n",
    "\n",
    "    decoder_optimizer.zero_grad()\n",
    "\n",
    "    input_length = input_tensor.size(0)\n",
    "    target_length = target_tensor.size(0)\n",
    "\n",
    "    #encoder_outputs = torch.zeros(max_length, encoder.hidden_size, device=device)\n",
    "\n",
    "    loss = 0\n",
    "\n",
    "    for ei in range(input_length):\n",
    "        #print('ei', ei)\n",
    "        decoder_output, decoder_hidden = decoder(input_tensor[ei], decoder_hidden)\n",
    "        #print('input_tensor',input_tensor[ei])\n",
    "\n",
    "        use_teacher_forcing = True if random.random() < teacher_forcing_ratio else False\n",
    "\n",
    "        if use_teacher_forcing:\n",
    "            # Teacher forcing: Feed the target as the next input\n",
    "            loss += criterion(decoder_output, target_tensor[ei])\n",
    "            decoder_input = target_tensor[ei].squeeze()  # Teacher forcing\n",
    "\n",
    "        else:\n",
    "            # Without teacher forcing: use its own predictions as the next input\n",
    "            topv, topi = decoder_output.topk(1)\n",
    "            decoder_input = topi.squeeze().detach()  # detach from history as input\n",
    "\n",
    "            loss += criterion(decoder_output, target_tensor[ei])\n",
    "            #if decoder_input.item() == EOS_token:\n",
    "               # break\n",
    "\n",
    "    loss.backward()\n",
    "\n",
    "    decoder_optimizer.step()\n",
    "\n",
    "    return loss.item() / target_length"
   ]
  },
  {
   "cell_type": "code",
   "execution_count": 63,
   "metadata": {},
   "outputs": [],
   "source": [
    "import time\n",
    "import math\n",
    "\n",
    "\n",
    "def asMinutes(s):\n",
    "    m = math.floor(s / 60)\n",
    "    s -= m * 60\n",
    "    return '%dm %ds' % (m, s)\n",
    "\n",
    "\n",
    "def timeSince(since, percent):\n",
    "    now = time.time()\n",
    "    s = now - since\n",
    "    es = s / (percent)\n",
    "    rs = es - s\n",
    "    return '%s (- %s)' % (asMinutes(s), asMinutes(rs))"
   ]
  },
  {
   "cell_type": "code",
   "execution_count": 64,
   "metadata": {},
   "outputs": [],
   "source": [
    "def trainIters(decoder, n_iters, print_every=5, plot_every=5, learning_rate=0.01):\n",
    "    start = time.time()\n",
    "    plot_losses = []\n",
    "    print_loss_total = 0  # Reset every print_every\n",
    "    plot_loss_total = 0  # Reset every plot_every\n",
    "\n",
    "    decoder_optimizer = optim.SGD(decoder.parameters(), lr=learning_rate)\n",
    "    training_pairs = [tensor4seq(testnpall[(randint(0, len(testnpall)-1))]) for i in range(n_iters)]\n",
    "    criterion = nn.NLLLoss()\n",
    "\n",
    "    for iter in range(1, n_iters + 1):\n",
    "        training_pair = training_pairs[iter - 1]\n",
    "        input_tensor = training_pair[0]\n",
    "        target_tensor = training_pair[1]\n",
    "\n",
    "        loss = train(input_tensor, target_tensor, decoder, decoder_optimizer, criterion)\n",
    "        print_loss_total += loss\n",
    "        plot_loss_total += loss\n",
    "\n",
    "        \n",
    "        #if iter % print_every == 0:\n",
    "         #   print_loss_avg = print_loss_total / print_every\n",
    "          #  print_loss_total = 0\n",
    "           # print('%s (%d %d%%) %.4f' % (timeSince(start, iter / n_iters),\n",
    "            #                             iter, iter / n_iters * 100, print_loss_avg))\n",
    "            \n",
    "\n",
    "        if iter % plot_every == 0:\n",
    "            plot_loss_avg = plot_loss_total / plot_every\n",
    "            plot_losses.append(plot_loss_avg)\n",
    "            plot_loss_total = 0\n",
    "            \n",
    "    print(plot_losses)        \n",
    "    showPlot(plot_losses)\n",
    "    return plot_losses"
   ]
  },
  {
   "cell_type": "code",
   "execution_count": 65,
   "metadata": {},
   "outputs": [],
   "source": [
    "import matplotlib.pyplot as plt\n",
    "plt.switch_backend('agg')\n",
    "import matplotlib.ticker as ticker\n",
    "import numpy as np\n",
    "%matplotlib inline\n",
    "\n",
    "def showPlot(points):\n",
    "    plt.figure()\n",
    "    fig, ax = plt.subplots()\n",
    "    # this locator puts ticks at regular intervals\n",
    "    loc = ticker.MultipleLocator(base=0.2)\n",
    "    #ax.yaxis.set_major_locator(loc)\n",
    "    plt.plot(points)\n",
    "    plt.show()"
   ]
  },
  {
   "cell_type": "code",
   "execution_count": 66,
   "metadata": {},
   "outputs": [
    {
     "name": "stdout",
     "output_type": "stream",
     "text": [
      "[14.552015581315361, 11.89664191838631, 11.801273511668596, 11.739510303483435, 11.725230826669764, 11.68287533082523, 11.686716895249527]\n"
     ]
    },
    {
     "data": {
      "text/plain": [
       "<Figure size 432x288 with 0 Axes>"
      ]
     },
     "metadata": {},
     "output_type": "display_data"
    },
    {
     "data": {
      "image/png": "[encoded data removed]",
      "text/plain": [
       "<Figure size 432x288 with 1 Axes>"
      ]
     },
     "metadata": {
      "needs_background": "light"
     },
     "output_type": "display_data"
    }
   ],
   "source": [
    "hidden_size = 200\n",
    "output_size= len(unique([item for sublist in testnpall for item in sublist]))\n",
    "decoder1 = DecoderRNN(hidden_size,output_size)\n",
    "plot_losses = trainIters(decoder1, 750, print_every=100, plot_every=100, learning_rate=0.01)"
   ]
  },
  {
   "cell_type": "code",
   "execution_count": 67,
   "metadata": {},
   "outputs": [
    {
     "data": {
      "text/plain": [
       "'/home/mamjad2'"
      ]
     },
     "execution_count": 67,
     "metadata": {},
     "output_type": "execute_result"
    }
   ],
   "source": [
    "pwd"
   ]
  },
  {
   "cell_type": "code",
   "execution_count": 812,
   "metadata": {},
   "outputs": [],
   "source": [
    "PATH_TO_ORIGINAL_DATA = '/home/mamjad2/trivagodata/'\n",
    "test = pd.read_csv(PATH_TO_ORIGINAL_DATA + 'test.csv')\n",
    "\n",
    "#Subset data with not null itemID refrence of item ID\n",
    "dftest1=test[(test['action_type'] != 'change of sort order') & (test['action_type'] !='filter selection') & (test['action_type'] !='search for destination')& (test['action_type'] !='search for poi') & (test['action_type'] !='clickout item') & (test['reference'].notnull()) & (test['reference']!='unknown')]\n",
    "#Subset data with null refrence only for Clickouts\n",
    "dftest2=test[(test['action_type'] == 'clickout item') & (test['reference'].isnull())] \n",
    "\n",
    "#Test data\n",
    "dftest_session=dftest1.append(dftest2, ignore_index=True)\n",
    "#dftest[\"sequence\"] = np.nan #adds item sequence in the session to the session\n",
    "# dftest.to_csv(\"./dftest.csv\", sep=',',index=False)\n"
   ]
  },
  {
   "cell_type": "code",
   "execution_count": 813,
   "metadata": {},
   "outputs": [],
   "source": [
    "for item in item_meta['item_id']:\n",
    "    if item not in flat_list_train:\n",
    "        item2idx[item]=n_items\n",
    "        idx2item[n_items]=item\n",
    "        n_items+=1\n",
    "    else:\n",
    "        continue"
   ]
  },
  {
   "cell_type": "code",
   "execution_count": 814,
   "metadata": {},
   "outputs": [],
   "source": [
    "def make_session(dftest, session_id):\n",
    "\n",
    "    sequence=[]\n",
    "    tstusr_session= dftest[dftest['session_id'] == session_dic[session_id]]\n",
    "    tstusr_session=tstusr_session.sort_values('step')\n",
    "    temp=tstusr_session['reference'] #Note:This sequence of interacted items can have repetetive item even consequetively! \n",
    "\n",
    "    if len(temp)==1 and temp.isna().any()==True:\n",
    "        sequence=[]\n",
    "        #print('Empty', temp)\n",
    "        #Sort impressions based on their probabilities\n",
    "\n",
    "    elif len(list(np.where(tstusr_session['reference'].isna())))==1 and len(temp)-1 in np.where(tstusr_session['reference'].isna()):\n",
    "        seq=temp[:-1]\n",
    "        seq=seq.to_numpy()\n",
    "        sequence=[int(x) for x in seq]\n",
    "        print('Sequence', len(sequence))\n",
    "        #DO prdiction for seq\n",
    "\n",
    "    elif len(list(np.where(tstusr_session['reference'].isna())))>1:\n",
    "        sequence=temp\n",
    "        #print('2NaN', temp)\n",
    "\n",
    "    elif temp.isna().any()==False:\n",
    "        sequence=temp\n",
    "        #print('NoNan', temp)\n",
    "\n",
    "    else:\n",
    "        #print('ALERT', temp)\n",
    "        sequence=temp\n",
    "        \n",
    "    return sequence"
   ]
  },
  {
   "cell_type": "code",
   "execution_count": 815,
   "metadata": {},
   "outputs": [],
   "source": [
    "\n",
    "            \n",
    "        \n",
    "        #datanp.append([NaNidx if math.isnan(x) else int(x) for x in train])\n",
    "#print(counter)\n",
    "\n",
    "#tstnp= sorted(tstnp, key=len, reverse=True)\n",
    "#pickle.dump(tstnp, open('tstemp.pkle', 'wb'))\n",
    "\n",
    "#np.savetxt('temp.txt', datanp)\n",
    "#data=torch.from_numpy(np.array(datanp))"
   ]
  },
  {
   "cell_type": "code",
   "execution_count": 816,
   "metadata": {},
   "outputs": [],
   "source": [
    "# test['action_type'].unique() #unique values in action_type column\n",
    "\n",
    "##Subseting the data into the clickouts and null only\n",
    "df_puretest=test[(test['action_type'] == 'clickout item') & (test['reference'].isnull())] \n",
    "impdict=dict(df_puretest['impressions'])\n",
    "session_dic=dict(df_puretest['session_id'])\n",
    "dfsubmit=df_puretest.loc[:,['user_id','session_id','timestamp', 'step', 'impressions']]\n",
    "dfsubmit.columns=['user_id','session_id','timestamp', 'step', 'item_recommendations']"
   ]
  },
  {
   "cell_type": "code",
   "execution_count": 817,
   "metadata": {},
   "outputs": [],
   "source": [
    "def get_data():\n",
    "    \n",
    "    PATH_TO_ORIGINAL_DATA = '/home/mamjad2/trivagodata/'\n",
    "    train = pd.read_csv(PATH_TO_ORIGINAL_DATA + 'train.csv')\n",
    "    #train = pd.read_csv('train.csv') #read data\n",
    "    #train['action_type'].unique() #unique values in action_type column\n",
    "\n",
    "    ##Subseting the train data into the clickouts only\n",
    "    dftrain=train[train['action_type'] == 'clickout item'] \n",
    "\n",
    "    ##Computing the probability of clicking each item\n",
    "    freq=dftrain['reference'].value_counts() #Counts the frequencies\n",
    "\n",
    "    prob=freq/len(dftrain['reference']) #compute the probablitie\n",
    "    probdic=dict(prob) #Store items as keys in the dict\n",
    "\n",
    "    test = pd.read_csv(PATH_TO_ORIGINAL_DATA + 'test.csv')\n",
    "    #test.head(5) #display first 5 rows\n",
    "\n",
    "    # test['action_type'].unique() #unique values in action_type column\n",
    "\n",
    "    ##Subseting the data into the clickouts and null only\n",
    "    dftestsub=test[(test['action_type'] == 'clickout item') & (test['reference'].isnull())] \n",
    "    impdict=dict(dftestsub['impressions'])\n",
    "    dfsubmit=dftestsub.loc[:,['user_id','session_id','timestamp', 'step', 'impressions']]\n",
    "    dfsubmit.columns=['user_id','session_id','timestamp', 'step', 'item_recommendations']\n",
    "\n",
    "    return probdic,impdict,dfsubmit"
   ]
  },
  {
   "cell_type": "code",
   "execution_count": 818,
   "metadata": {},
   "outputs": [],
   "source": [
    "def Scorenew(impressions_string, probdic):\n",
    "    \n",
    "    implist= impressions_string.split(\"|\")\n",
    "    probimp=[]\n",
    "    for j in implist:\n",
    "        if j in probdic:\n",
    "            probimp.append(probdic[j])\n",
    "        else:\n",
    "            probimp.append(0)\n",
    "\n",
    "\n",
    "    temp = sorted(zip(probimp,implist), reverse = True)\n",
    "\n",
    "    return ' '.join([x for _,x in temp])"
   ]
  },
  {
   "cell_type": "code",
   "execution_count": 819,
   "metadata": {},
   "outputs": [],
   "source": [
    "def evaluate(decoder, sequence, impressions, n_items):\n",
    "    with torch.no_grad():\n",
    "        input_tensor = tensor4seq(sequence)[2]\n",
    "        input_length = input_tensor.size()[0]\n",
    "        decoder_hidden = decoder.initHidden()\n",
    "\n",
    "        #encoder_outputs = torch.zeros(max_length, encoder.hidden_size, device=device)\n",
    "\n",
    "        for ei in range(input_length):\n",
    "            decoder_output, decoder_hidden = decoder(input_tensor[ei],\n",
    "                                                     decoder_hidden)\n",
    "            #decoded_words = []\n",
    "            #decoded_words.append(output_lang.index2word[topi.item()])\n",
    "            \n",
    "            decoder_input = input_tensor[ei].squeeze()\n",
    "            \n",
    "        topv, topi = decoder_output.data.topk(n_items)\n",
    "        topi = topi.tolist()\n",
    "        impindx= seq2indx([int(x) for x in impressions.split('|')])\n",
    "        \n",
    "        sorted_imp= [x for x in topi if x in impindx]\n",
    "        \n",
    "\n",
    "        return ' '.join([str(x) for x in sorted_imp])"
   ]
  },
  {
   "cell_type": "code",
   "execution_count": 820,
   "metadata": {},
   "outputs": [
    {
     "name": "stdout",
     "output_type": "stream",
     "text": [
      "Sequence 2\n",
      "[2059240, 2059240]\n"
     ]
    },
    {
     "ename": "RuntimeError",
     "evalue": "index out of range at /pytorch/aten/src/TH/generic/THTensorEvenMoreMath.cpp:193",
     "output_type": "error",
     "traceback": [
      "\u001b[0;31m---------------------------------------------------------------------------\u001b[0m",
      "\u001b[0;31mRuntimeError\u001b[0m                              Traceback (most recent call last)",
      "\u001b[0;32m<ipython-input-820-555f2c16fa89>\u001b[0m in \u001b[0;36m<module>\u001b[0;34m\u001b[0m\n\u001b[1;32m     17\u001b[0m     \u001b[0;32melse\u001b[0m\u001b[0;34m:\u001b[0m\u001b[0;34m\u001b[0m\u001b[0;34m\u001b[0m\u001b[0m\n\u001b[1;32m     18\u001b[0m         \u001b[0mimp\u001b[0m\u001b[0;34m=\u001b[0m\u001b[0mimpdict\u001b[0m\u001b[0;34m[\u001b[0m\u001b[0mx\u001b[0m\u001b[0;34m]\u001b[0m\u001b[0;34m\u001b[0m\u001b[0;34m\u001b[0m\u001b[0m\n\u001b[0;32m---> 19\u001b[0;31m         \u001b[0mdfsubmit\u001b[0m\u001b[0;34m[\u001b[0m\u001b[0;34m'item_recommendations'\u001b[0m\u001b[0;34m]\u001b[0m\u001b[0;34m[\u001b[0m\u001b[0mx\u001b[0m\u001b[0;34m]\u001b[0m \u001b[0;34m=\u001b[0m \u001b[0mevaluate\u001b[0m\u001b[0;34m(\u001b[0m\u001b[0mdecoder1\u001b[0m\u001b[0;34m,\u001b[0m \u001b[0mseq\u001b[0m\u001b[0;34m,\u001b[0m \u001b[0mMAX_LENGTH\u001b[0m\u001b[0;34m,\u001b[0m \u001b[0mimp\u001b[0m\u001b[0;34m,\u001b[0m \u001b[0mn_items\u001b[0m\u001b[0;34m)\u001b[0m\u001b[0;34m\u001b[0m\u001b[0;34m\u001b[0m\u001b[0m\n\u001b[0m\u001b[1;32m     20\u001b[0m \u001b[0;34m\u001b[0m\u001b[0m\n\u001b[1;32m     21\u001b[0m     \u001b[0mcount\u001b[0m \u001b[0;34m+=\u001b[0m \u001b[0;36m1\u001b[0m\u001b[0;34m\u001b[0m\u001b[0;34m\u001b[0m\u001b[0m\n",
      "\u001b[0;32m<ipython-input-819-4b4a6f8d581e>\u001b[0m in \u001b[0;36mevaluate\u001b[0;34m(decoder, sequence, MAX_LENGTH, impressions, n_items)\u001b[0m\n\u001b[1;32m      9\u001b[0m         \u001b[0;32mfor\u001b[0m \u001b[0mei\u001b[0m \u001b[0;32min\u001b[0m \u001b[0mrange\u001b[0m\u001b[0;34m(\u001b[0m\u001b[0minput_length\u001b[0m\u001b[0;34m)\u001b[0m\u001b[0;34m:\u001b[0m\u001b[0;34m\u001b[0m\u001b[0;34m\u001b[0m\u001b[0m\n\u001b[1;32m     10\u001b[0m             decoder_output, decoder_hidden = decoder(input_tensor[ei],\n\u001b[0;32m---> 11\u001b[0;31m                                                      decoder_hidden)\n\u001b[0m\u001b[1;32m     12\u001b[0m             \u001b[0;31m#decoded_words = []\u001b[0m\u001b[0;34m\u001b[0m\u001b[0;34m\u001b[0m\u001b[0;34m\u001b[0m\u001b[0m\n\u001b[1;32m     13\u001b[0m             \u001b[0;31m#decoded_words.append(output_lang.index2word[topi.item()])\u001b[0m\u001b[0;34m\u001b[0m\u001b[0;34m\u001b[0m\u001b[0;34m\u001b[0m\u001b[0m\n",
      "\u001b[0;32m~/miniconda3/lib/python3.7/site-packages/torch/nn/modules/module.py\u001b[0m in \u001b[0;36m__call__\u001b[0;34m(self, *input, **kwargs)\u001b[0m\n\u001b[1;32m    491\u001b[0m             \u001b[0mresult\u001b[0m \u001b[0;34m=\u001b[0m \u001b[0mself\u001b[0m\u001b[0;34m.\u001b[0m\u001b[0m_slow_forward\u001b[0m\u001b[0;34m(\u001b[0m\u001b[0;34m*\u001b[0m\u001b[0minput\u001b[0m\u001b[0;34m,\u001b[0m \u001b[0;34m**\u001b[0m\u001b[0mkwargs\u001b[0m\u001b[0;34m)\u001b[0m\u001b[0;34m\u001b[0m\u001b[0;34m\u001b[0m\u001b[0m\n\u001b[1;32m    492\u001b[0m         \u001b[0;32melse\u001b[0m\u001b[0;34m:\u001b[0m\u001b[0;34m\u001b[0m\u001b[0;34m\u001b[0m\u001b[0m\n\u001b[0;32m--> 493\u001b[0;31m             \u001b[0mresult\u001b[0m \u001b[0;34m=\u001b[0m \u001b[0mself\u001b[0m\u001b[0;34m.\u001b[0m\u001b[0mforward\u001b[0m\u001b[0;34m(\u001b[0m\u001b[0;34m*\u001b[0m\u001b[0minput\u001b[0m\u001b[0;34m,\u001b[0m \u001b[0;34m**\u001b[0m\u001b[0mkwargs\u001b[0m\u001b[0;34m)\u001b[0m\u001b[0;34m\u001b[0m\u001b[0;34m\u001b[0m\u001b[0m\n\u001b[0m\u001b[1;32m    494\u001b[0m         \u001b[0;32mfor\u001b[0m \u001b[0mhook\u001b[0m \u001b[0;32min\u001b[0m \u001b[0mself\u001b[0m\u001b[0;34m.\u001b[0m\u001b[0m_forward_hooks\u001b[0m\u001b[0;34m.\u001b[0m\u001b[0mvalues\u001b[0m\u001b[0;34m(\u001b[0m\u001b[0;34m)\u001b[0m\u001b[0;34m:\u001b[0m\u001b[0;34m\u001b[0m\u001b[0;34m\u001b[0m\u001b[0m\n\u001b[1;32m    495\u001b[0m             \u001b[0mhook_result\u001b[0m \u001b[0;34m=\u001b[0m \u001b[0mhook\u001b[0m\u001b[0;34m(\u001b[0m\u001b[0mself\u001b[0m\u001b[0;34m,\u001b[0m \u001b[0minput\u001b[0m\u001b[0;34m,\u001b[0m \u001b[0mresult\u001b[0m\u001b[0;34m)\u001b[0m\u001b[0;34m\u001b[0m\u001b[0;34m\u001b[0m\u001b[0m\n",
      "\u001b[0;32m<ipython-input-796-e47bf3cd963b>\u001b[0m in \u001b[0;36mforward\u001b[0;34m(self, input, hidden)\u001b[0m\n\u001b[1;32m     10\u001b[0m \u001b[0;34m\u001b[0m\u001b[0m\n\u001b[1;32m     11\u001b[0m     \u001b[0;32mdef\u001b[0m \u001b[0mforward\u001b[0m\u001b[0;34m(\u001b[0m\u001b[0mself\u001b[0m\u001b[0;34m,\u001b[0m \u001b[0minput\u001b[0m\u001b[0;34m,\u001b[0m \u001b[0mhidden\u001b[0m\u001b[0;34m)\u001b[0m\u001b[0;34m:\u001b[0m\u001b[0;34m\u001b[0m\u001b[0;34m\u001b[0m\u001b[0m\n\u001b[0;32m---> 12\u001b[0;31m         \u001b[0moutput\u001b[0m \u001b[0;34m=\u001b[0m \u001b[0mself\u001b[0m\u001b[0;34m.\u001b[0m\u001b[0membedding\u001b[0m\u001b[0;34m(\u001b[0m\u001b[0minput\u001b[0m\u001b[0;34m)\u001b[0m\u001b[0;34m.\u001b[0m\u001b[0mview\u001b[0m\u001b[0;34m(\u001b[0m\u001b[0;36m1\u001b[0m\u001b[0;34m,\u001b[0m \u001b[0;36m1\u001b[0m\u001b[0;34m,\u001b[0m \u001b[0;34m-\u001b[0m\u001b[0;36m1\u001b[0m\u001b[0;34m)\u001b[0m\u001b[0;34m\u001b[0m\u001b[0;34m\u001b[0m\u001b[0m\n\u001b[0m\u001b[1;32m     13\u001b[0m         \u001b[0moutput\u001b[0m \u001b[0;34m=\u001b[0m \u001b[0mF\u001b[0m\u001b[0;34m.\u001b[0m\u001b[0mrelu\u001b[0m\u001b[0;34m(\u001b[0m\u001b[0moutput\u001b[0m\u001b[0;34m)\u001b[0m\u001b[0;34m\u001b[0m\u001b[0;34m\u001b[0m\u001b[0m\n\u001b[1;32m     14\u001b[0m         \u001b[0moutput\u001b[0m\u001b[0;34m,\u001b[0m \u001b[0mhidden\u001b[0m \u001b[0;34m=\u001b[0m \u001b[0mself\u001b[0m\u001b[0;34m.\u001b[0m\u001b[0mgru\u001b[0m\u001b[0;34m(\u001b[0m\u001b[0moutput\u001b[0m\u001b[0;34m,\u001b[0m \u001b[0mhidden\u001b[0m\u001b[0;34m)\u001b[0m\u001b[0;34m\u001b[0m\u001b[0;34m\u001b[0m\u001b[0m\n",
      "\u001b[0;32m~/miniconda3/lib/python3.7/site-packages/torch/nn/modules/module.py\u001b[0m in \u001b[0;36m__call__\u001b[0;34m(self, *input, **kwargs)\u001b[0m\n\u001b[1;32m    491\u001b[0m             \u001b[0mresult\u001b[0m \u001b[0;34m=\u001b[0m \u001b[0mself\u001b[0m\u001b[0;34m.\u001b[0m\u001b[0m_slow_forward\u001b[0m\u001b[0;34m(\u001b[0m\u001b[0;34m*\u001b[0m\u001b[0minput\u001b[0m\u001b[0;34m,\u001b[0m \u001b[0;34m**\u001b[0m\u001b[0mkwargs\u001b[0m\u001b[0;34m)\u001b[0m\u001b[0;34m\u001b[0m\u001b[0;34m\u001b[0m\u001b[0m\n\u001b[1;32m    492\u001b[0m         \u001b[0;32melse\u001b[0m\u001b[0;34m:\u001b[0m\u001b[0;34m\u001b[0m\u001b[0;34m\u001b[0m\u001b[0m\n\u001b[0;32m--> 493\u001b[0;31m             \u001b[0mresult\u001b[0m \u001b[0;34m=\u001b[0m \u001b[0mself\u001b[0m\u001b[0;34m.\u001b[0m\u001b[0mforward\u001b[0m\u001b[0;34m(\u001b[0m\u001b[0;34m*\u001b[0m\u001b[0minput\u001b[0m\u001b[0;34m,\u001b[0m \u001b[0;34m**\u001b[0m\u001b[0mkwargs\u001b[0m\u001b[0;34m)\u001b[0m\u001b[0;34m\u001b[0m\u001b[0;34m\u001b[0m\u001b[0m\n\u001b[0m\u001b[1;32m    494\u001b[0m         \u001b[0;32mfor\u001b[0m \u001b[0mhook\u001b[0m \u001b[0;32min\u001b[0m \u001b[0mself\u001b[0m\u001b[0;34m.\u001b[0m\u001b[0m_forward_hooks\u001b[0m\u001b[0;34m.\u001b[0m\u001b[0mvalues\u001b[0m\u001b[0;34m(\u001b[0m\u001b[0;34m)\u001b[0m\u001b[0;34m:\u001b[0m\u001b[0;34m\u001b[0m\u001b[0;34m\u001b[0m\u001b[0m\n\u001b[1;32m    495\u001b[0m             \u001b[0mhook_result\u001b[0m \u001b[0;34m=\u001b[0m \u001b[0mhook\u001b[0m\u001b[0;34m(\u001b[0m\u001b[0mself\u001b[0m\u001b[0;34m,\u001b[0m \u001b[0minput\u001b[0m\u001b[0;34m,\u001b[0m \u001b[0mresult\u001b[0m\u001b[0;34m)\u001b[0m\u001b[0;34m\u001b[0m\u001b[0;34m\u001b[0m\u001b[0m\n",
      "\u001b[0;32m~/miniconda3/lib/python3.7/site-packages/torch/nn/modules/sparse.py\u001b[0m in \u001b[0;36mforward\u001b[0;34m(self, input)\u001b[0m\n\u001b[1;32m    115\u001b[0m         return F.embedding(\n\u001b[1;32m    116\u001b[0m             \u001b[0minput\u001b[0m\u001b[0;34m,\u001b[0m \u001b[0mself\u001b[0m\u001b[0;34m.\u001b[0m\u001b[0mweight\u001b[0m\u001b[0;34m,\u001b[0m \u001b[0mself\u001b[0m\u001b[0;34m.\u001b[0m\u001b[0mpadding_idx\u001b[0m\u001b[0;34m,\u001b[0m \u001b[0mself\u001b[0m\u001b[0;34m.\u001b[0m\u001b[0mmax_norm\u001b[0m\u001b[0;34m,\u001b[0m\u001b[0;34m\u001b[0m\u001b[0;34m\u001b[0m\u001b[0m\n\u001b[0;32m--> 117\u001b[0;31m             self.norm_type, self.scale_grad_by_freq, self.sparse)\n\u001b[0m\u001b[1;32m    118\u001b[0m \u001b[0;34m\u001b[0m\u001b[0m\n\u001b[1;32m    119\u001b[0m     \u001b[0;32mdef\u001b[0m \u001b[0mextra_repr\u001b[0m\u001b[0;34m(\u001b[0m\u001b[0mself\u001b[0m\u001b[0;34m)\u001b[0m\u001b[0;34m:\u001b[0m\u001b[0;34m\u001b[0m\u001b[0;34m\u001b[0m\u001b[0m\n",
      "\u001b[0;32m~/miniconda3/lib/python3.7/site-packages/torch/nn/functional.py\u001b[0m in \u001b[0;36membedding\u001b[0;34m(input, weight, padding_idx, max_norm, norm_type, scale_grad_by_freq, sparse)\u001b[0m\n\u001b[1;32m   1504\u001b[0m         \u001b[0;31m# remove once script supports set_grad_enabled\u001b[0m\u001b[0;34m\u001b[0m\u001b[0;34m\u001b[0m\u001b[0;34m\u001b[0m\u001b[0m\n\u001b[1;32m   1505\u001b[0m         \u001b[0m_no_grad_embedding_renorm_\u001b[0m\u001b[0;34m(\u001b[0m\u001b[0mweight\u001b[0m\u001b[0;34m,\u001b[0m \u001b[0minput\u001b[0m\u001b[0;34m,\u001b[0m \u001b[0mmax_norm\u001b[0m\u001b[0;34m,\u001b[0m \u001b[0mnorm_type\u001b[0m\u001b[0;34m)\u001b[0m\u001b[0;34m\u001b[0m\u001b[0;34m\u001b[0m\u001b[0m\n\u001b[0;32m-> 1506\u001b[0;31m     \u001b[0;32mreturn\u001b[0m \u001b[0mtorch\u001b[0m\u001b[0;34m.\u001b[0m\u001b[0membedding\u001b[0m\u001b[0;34m(\u001b[0m\u001b[0mweight\u001b[0m\u001b[0;34m,\u001b[0m \u001b[0minput\u001b[0m\u001b[0;34m,\u001b[0m \u001b[0mpadding_idx\u001b[0m\u001b[0;34m,\u001b[0m \u001b[0mscale_grad_by_freq\u001b[0m\u001b[0;34m,\u001b[0m \u001b[0msparse\u001b[0m\u001b[0;34m)\u001b[0m\u001b[0;34m\u001b[0m\u001b[0;34m\u001b[0m\u001b[0m\n\u001b[0m\u001b[1;32m   1507\u001b[0m \u001b[0;34m\u001b[0m\u001b[0m\n\u001b[1;32m   1508\u001b[0m \u001b[0;34m\u001b[0m\u001b[0m\n",
      "\u001b[0;31mRuntimeError\u001b[0m: index out of range at /pytorch/aten/src/TH/generic/THTensorEvenMoreMath.cpp:193"
     ]
    }
   ],
   "source": [
    "# decoder_optimizer = optim.SGD(decoder.parameters(), lr=learning_rate)\n",
    "# criterion = nn.NLLLoss()\n",
    "\n",
    "#probdic,impdict,dfsubmit = get_data()\n",
    "#pickle.dump([probdic,impdict,dfsubmit],open('processed.pkl','wb'))\n",
    "\n",
    "[probdic,impdict,dfsubmit] = pickle.load(open('processed.pkl','rb'))\n",
    "\n",
    "count=0\n",
    "for x in session_dic:\n",
    "    start = time.time()\n",
    "    seq=make_session(dftest_session, x)\n",
    "    print(seq)\n",
    "    if len(seq)==0:\n",
    "        dfsubmit['item_recommendations'][x] = Scorenew(impdict[x],probdic)\n",
    "    \n",
    "    else:\n",
    "        imp=impdict[x]\n",
    "        dfsubmit['item_recommendations'][x] = evaluate(decoder1, seq, imp, n_items)\n",
    "        \n",
    "    count += 1    \n",
    "    if count % 1000 == 0:\n",
    "        dfsubmit.to_csv(\"./submit.csv\", sep=',',index=False)\n",
    "        end = time.time()\n",
    "        print(count)\n",
    "        print(end-start)\n",
    "        break"
   ]
  }
 ],
 "metadata": {
  "kernelspec": {
   "display_name": "Python 3",
   "language": "python",
   "name": "python3"
  },
  "language_info": {
   "codemirror_mode": {
    "name": "ipython",
    "version": 3
   },
   "file_extension": ".py",
   "mimetype": "text/x-python",
   "name": "python",
   "nbconvert_exporter": "python",
   "pygments_lexer": "ipython3",
   "version": "3.7.1"
  }
 },
 "nbformat": 4,
 "nbformat_minor": 2
}
